{
 "cells": [
  {
   "cell_type": "code",
   "execution_count": 0,
   "metadata": {
    "colab": {
     "base_uri": "https://localhost:8080/",
     "height": 122
    },
    "colab_type": "code",
    "id": "R1mhcrTeUY3C",
    "outputId": "760c1849-9f46-4cd6-831f-412f1c00f464"
   },
   "outputs": [
    {
     "name": "stdout",
     "output_type": "stream",
     "text": [
      "Go to this URL in a browser: https://accounts.google.com/o/oauth2/auth?client_id=947318989803-6bn6qk8qdgf4n4g3pfee6491hc0brc4i.apps.googleusercontent.com&redirect_uri=urn%3Aietf%3Awg%3Aoauth%3A2.0%3Aoob&scope=email%20https%3A%2F%2Fwww.googleapis.com%2Fauth%2Fdocs.test%20https%3A%2F%2Fwww.googleapis.com%2Fauth%2Fdrive%20https%3A%2F%2Fwww.googleapis.com%2Fauth%2Fdrive.photos.readonly%20https%3A%2F%2Fwww.googleapis.com%2Fauth%2Fpeopleapi.readonly&response_type=code\n",
      "\n",
      "Enter your authorization code:\n",
      "··········\n",
      "Mounted at /content/drive\n"
     ]
    }
   ],
   "source": [
    "from google.colab import drive\n",
    "drive.mount('/content/drive')"
   ]
  },
  {
   "cell_type": "code",
   "execution_count": 0,
   "metadata": {
    "colab": {},
    "colab_type": "code",
    "id": "WQypoJHeXImz"
   },
   "outputs": [],
   "source": [
    "import sys\n",
    "from IPython.display import Image\n",
    "from sklearn.cluster import MeanShift\n",
    "\n",
    "import matplotlib.pyplot as plt\n",
    "import scipy.misc\n",
    "import numpy as np\n",
    "import tensorflow as tf\n",
    "import cv2\n",
    "import warnings\n",
    "from distutils.version import LooseVersion\n",
    "import glob\n",
    "\n",
    "import os\n",
    "from sklearn.model_selection import train_test_split"
   ]
  },
  {
   "cell_type": "markdown",
   "metadata": {
    "colab_type": "text",
    "id": "fcgsWJNx5b-r"
   },
   "source": [
    "## Prepaire data"
   ]
  },
  {
   "cell_type": "code",
   "execution_count": 0,
   "metadata": {
    "colab": {},
    "colab_type": "code",
    "id": "ftExziQhjvS1"
   },
   "outputs": [],
   "source": [
    "IMAGE_SIZE = (52, 52, 3)\n",
    "RATE_DROP = 0.5\n",
    "\n",
    "def prepaire_data(path):\n",
    "  X_data = []\n",
    "  y_data = []\n",
    "  for file in os.listdir(path):\n",
    "    path_img = os.path.join(path, file)\n",
    "    img = cv2.imread(path_img)\n",
    "    img = cv2.resize(img, (IMAGE_SIZE[0], IMAGE_SIZE[1]))\n",
    "    img = img/255.\n",
    "    X_data.append(img)\n",
    "    lb = np.int32(path_img[-5])\n",
    "    y_data.append(lb)\n",
    "  X_data = np.array(X_data)\n",
    "  y_data = np.array(y_data)\n",
    "  return X_data, y_data\n",
    "    "
   ]
  },
  {
   "cell_type": "code",
   "execution_count": 0,
   "metadata": {
    "colab": {},
    "colab_type": "code",
    "id": "ku8C1m5bFMoP"
   },
   "outputs": [],
   "source": [
    "!unzip ./drive/My\\ Drive/Colab\\ Notebooks/BTL/im_train_stage2.zip\n",
    "!rm -r ./train_stage2/\n",
    "!mkdir ./train_stage2\n",
    "!mv ./*.png ./train_stage2"
   ]
  },
  {
   "cell_type": "code",
   "execution_count": 0,
   "metadata": {
    "colab": {},
    "colab_type": "code",
    "id": "SR_AkIRJhQtC"
   },
   "outputs": [],
   "source": [
    "!unzip ./drive/My\\ Drive/Colab\\ Notebooks/BTL/test.zip\n",
    "!rm -r ./test/\n",
    "!mkdir ./test\n",
    "!mv ./*.png ./test"
   ]
  },
  {
   "cell_type": "code",
   "execution_count": 0,
   "metadata": {
    "colab": {},
    "colab_type": "code",
    "id": "qi-M7-7S4KMl"
   },
   "outputs": [],
   "source": [
    "path = './train_stage2'\n",
    "X_data, y_data = prepaire_data(path)"
   ]
  },
  {
   "cell_type": "code",
   "execution_count": 0,
   "metadata": {
    "colab": {
     "base_uri": "https://localhost:8080/",
     "height": 34
    },
    "colab_type": "code",
    "id": "mAptlkjS_iv6",
    "outputId": "9d5f753c-1486-4a4b-c233-81b79b0e4de2"
   },
   "outputs": [
    {
     "data": {
      "text/plain": [
       "(1452, 52, 52, 3)"
      ]
     },
     "execution_count": 7,
     "metadata": {
      "tags": []
     },
     "output_type": "execute_result"
    }
   ],
   "source": [
    "X_data.shape"
   ]
  },
  {
   "cell_type": "markdown",
   "metadata": {
    "colab_type": "text",
    "id": "Gkq4gaZvw27s"
   },
   "source": [
    "## Train_test_split"
   ]
  },
  {
   "cell_type": "code",
   "execution_count": 0,
   "metadata": {
    "colab": {},
    "colab_type": "code",
    "id": "67k-I8Sd_bdl"
   },
   "outputs": [],
   "source": [
    "X_train, X_test, y_train, y_test = train_test_split(X_data, y_data, test_size=0.15)"
   ]
  },
  {
   "cell_type": "code",
   "execution_count": 0,
   "metadata": {
    "colab": {},
    "colab_type": "code",
    "id": "Xf8z4EDxS6Qd"
   },
   "outputs": [],
   "source": [
    "X_train, X_val, y_train, y_val = train_test_split(X_train, y_train, test_size=0.35)"
   ]
  },
  {
   "cell_type": "code",
   "execution_count": 0,
   "metadata": {
    "colab": {
     "base_uri": "https://localhost:8080/",
     "height": 34
    },
    "colab_type": "code",
    "id": "rlBqG6WhSsuB",
    "outputId": "646e843d-fa96-4d3d-cfbb-17205690b0ba"
   },
   "outputs": [
    {
     "data": {
      "text/plain": [
       "((802, 52, 52, 3), (218, 52, 52, 3), (802,), (218,), (432, 52, 52, 3), (432,))"
      ]
     },
     "execution_count": 44,
     "metadata": {
      "tags": []
     },
     "output_type": "execute_result"
    }
   ],
   "source": [
    "X_train.shape, X_test.shape, y_train.shape, y_test.shape, X_val.shape, y_val.shape"
   ]
  },
  {
   "cell_type": "code",
   "execution_count": 0,
   "metadata": {
    "colab": {},
    "colab_type": "code",
    "id": "-TtUkoSFJI7z"
   },
   "outputs": [],
   "source": [
    "fig, ax = plt.subplots(2, 2, figsize=(10, 10))\n",
    "ax[0,0].imshow(cv2.cvtColor(np.uint8(X_train[121]*225), cv2.COLOR_RGB2BGR))\n",
    "\n",
    "ax[0,1].imshow(cv2.cvtColor(np.uint8(X_train[11]*225), cv2.COLOR_RGB2BGR))\n",
    "\n",
    "ax[1,0].imshow(cv2.cvtColor(np.uint8(X_train[1]*225), cv2.COLOR_RGB2BGR))\n",
    "\n",
    "ax[1,1].imshow(cv2.cvtColor(np.uint8(X_train[3]*225), cv2.COLOR_RGB2BGR))\n"
   ]
  },
  {
   "cell_type": "code",
   "execution_count": 0,
   "metadata": {
    "colab": {
     "base_uri": "https://localhost:8080/",
     "height": 34
    },
    "colab_type": "code",
    "id": "rEDAFu4FTg2z",
    "outputId": "16207d1f-8010-4592-c34a-c0c634a73d2f"
   },
   "outputs": [
    {
     "data": {
      "text/plain": [
       "(0, 3, 0, 3)"
      ]
     },
     "execution_count": 46,
     "metadata": {
      "tags": []
     },
     "output_type": "execute_result"
    }
   ],
   "source": [
    "y_train[121], y_train[11], y_train[1], y_train[3]"
   ]
  },
  {
   "cell_type": "markdown",
   "metadata": {
    "colab_type": "text",
    "id": "FHMSO0635g6O"
   },
   "source": [
    "## Model"
   ]
  },
  {
   "cell_type": "code",
   "execution_count": 0,
   "metadata": {
    "colab": {},
    "colab_type": "code",
    "id": "bebDFmZL5jGn"
   },
   "outputs": [],
   "source": [
    "from keras.layers import Dense, Conv2D, Flatten, Reshape, Input, Activation, MaxPooling2D, BatchNormalization, Dropout\n",
    "from keras.models import Sequential, Model\n",
    "from keras.optimizers import Adam\n",
    "from keras.callbacks import Callback, ModelCheckpoint, ReduceLROnPlateau, TensorBoard, EarlyStopping\n",
    "import matplotlib.pyplot as plt"
   ]
  },
  {
   "cell_type": "code",
   "execution_count": 0,
   "metadata": {
    "colab": {},
    "colab_type": "code",
    "id": "wqtls3Ja6dsj"
   },
   "outputs": [],
   "source": [
    "def build_model():\n",
    "  model = Sequential()\n",
    "  \n",
    "  model.add(Conv2D(filters=32, kernel_size=(5, 5), strides=1, padding='valid', input_shape=IMAGE_SIZE, use_bias=True, activation='relu'))\n",
    "  model.add(MaxPooling2D(pool_size=(2, 2), strides=2, padding='valid'))\n",
    "  model.add(BatchNormalization())\n",
    "  \n",
    "  model.add(Conv2D(filters=64, kernel_size=(3, 3), strides=1, padding='valid', use_bias=True, activation='relu'))\n",
    "  model.add(MaxPooling2D(pool_size=(2, 2), strides=2, padding='valid'))\n",
    "  model.add(BatchNormalization())\n",
    " \n",
    "  model.add(Flatten(input_shape=IMAGE_SIZE))\n",
    "  model.add(Dropout(rate=RATE_DROP))\n",
    "  model.add(Dense(units=32, activation='relu', use_bias=True))\n",
    "  model.add(Dense(units=4, activation='softmax'))\n",
    "  \n",
    "  return model\n",
    "  "
   ]
  },
  {
   "cell_type": "code",
   "execution_count": 0,
   "metadata": {
    "colab": {
     "base_uri": "https://localhost:8080/",
     "height": 476
    },
    "colab_type": "code",
    "id": "5MfhodbGLqOT",
    "outputId": "4afabb27-5cdc-4c08-9fa6-bcaaf9f5ba7b"
   },
   "outputs": [
    {
     "name": "stdout",
     "output_type": "stream",
     "text": [
      "_________________________________________________________________\n",
      "Layer (type)                 Output Shape              Param #   \n",
      "=================================================================\n",
      "conv2d_13 (Conv2D)           (None, 48, 48, 32)        2432      \n",
      "_________________________________________________________________\n",
      "max_pooling2d_13 (MaxPooling (None, 24, 24, 32)        0         \n",
      "_________________________________________________________________\n",
      "batch_normalization_13 (Batc (None, 24, 24, 32)        128       \n",
      "_________________________________________________________________\n",
      "conv2d_14 (Conv2D)           (None, 22, 22, 64)        18496     \n",
      "_________________________________________________________________\n",
      "max_pooling2d_14 (MaxPooling (None, 11, 11, 64)        0         \n",
      "_________________________________________________________________\n",
      "batch_normalization_14 (Batc (None, 11, 11, 64)        256       \n",
      "_________________________________________________________________\n",
      "flatten_7 (Flatten)          (None, 7744)              0         \n",
      "_________________________________________________________________\n",
      "dropout_7 (Dropout)          (None, 7744)              0         \n",
      "_________________________________________________________________\n",
      "dense_13 (Dense)             (None, 32)                247840    \n",
      "_________________________________________________________________\n",
      "dense_14 (Dense)             (None, 4)                 132       \n",
      "=================================================================\n",
      "Total params: 269,284\n",
      "Trainable params: 269,092\n",
      "Non-trainable params: 192\n",
      "_________________________________________________________________\n"
     ]
    }
   ],
   "source": [
    "IMAGE_SIZE = (52, 52, 3)\n",
    "RATE_DROP = 0.5\n",
    "model = build_model()\n",
    "model.summary()"
   ]
  },
  {
   "cell_type": "code",
   "execution_count": 0,
   "metadata": {
    "colab": {
     "base_uri": "https://localhost:8080/",
     "height": 1000
    },
    "colab_type": "code",
    "id": "4LfHH7U29hAN",
    "outputId": "46bb0651-9466-4839-feb7-c344300f6fdb"
   },
   "outputs": [
    {
     "name": "stdout",
     "output_type": "stream",
     "text": [
      "Train on 802 samples, validate on 432 samples\n",
      "Epoch 1/20\n",
      "802/802 [==============================] - 1s 869us/step - loss: 0.2330 - acc: 0.9190 - val_loss: 0.1255 - val_acc: 0.9838\n",
      "\n",
      "Epoch 00001: val_acc improved from -inf to 0.98380, saving model to model.h5\n",
      "Epoch 2/20\n",
      "802/802 [==============================] - 0s 211us/step - loss: 0.0217 - acc: 0.9988 - val_loss: 0.1492 - val_acc: 0.9792\n",
      "\n",
      "Epoch 00002: val_acc did not improve from 0.98380\n",
      "Epoch 3/20\n",
      "802/802 [==============================] - 0s 206us/step - loss: 0.0245 - acc: 0.9975 - val_loss: 0.1270 - val_acc: 0.9861\n",
      "\n",
      "Epoch 00003: val_acc improved from 0.98380 to 0.98611, saving model to model.h5\n",
      "Epoch 4/20\n",
      "802/802 [==============================] - 0s 204us/step - loss: 0.0228 - acc: 0.9975 - val_loss: 0.1189 - val_acc: 0.9907\n",
      "\n",
      "Epoch 00004: val_acc improved from 0.98611 to 0.99074, saving model to model.h5\n",
      "Epoch 5/20\n",
      "802/802 [==============================] - 0s 200us/step - loss: 0.0209 - acc: 0.9988 - val_loss: 0.1165 - val_acc: 0.9907\n",
      "\n",
      "Epoch 00005: val_acc did not improve from 0.99074\n",
      "Epoch 6/20\n",
      "802/802 [==============================] - 0s 204us/step - loss: 0.0210 - acc: 0.9988 - val_loss: 0.1136 - val_acc: 0.9931\n",
      "\n",
      "Epoch 00006: val_acc improved from 0.99074 to 0.99306, saving model to model.h5\n",
      "Epoch 7/20\n",
      "802/802 [==============================] - 0s 194us/step - loss: 0.0205 - acc: 0.9988 - val_loss: 0.1191 - val_acc: 0.9884\n",
      "\n",
      "Epoch 00007: val_acc did not improve from 0.99306\n",
      "Epoch 8/20\n",
      "802/802 [==============================] - 0s 193us/step - loss: 0.0201 - acc: 0.9988 - val_loss: 0.1198 - val_acc: 0.9884\n",
      "\n",
      "Epoch 00008: val_acc did not improve from 0.99306\n",
      "Epoch 9/20\n",
      "802/802 [==============================] - 0s 186us/step - loss: 0.0201 - acc: 0.9988 - val_loss: 0.1186 - val_acc: 0.9884\n",
      "\n",
      "Epoch 00009: val_acc did not improve from 0.99306\n",
      "Epoch 10/20\n",
      "802/802 [==============================] - 0s 192us/step - loss: 0.0202 - acc: 0.9988 - val_loss: 0.1178 - val_acc: 0.9907\n",
      "\n",
      "Epoch 00010: val_acc did not improve from 0.99306\n",
      "Epoch 11/20\n",
      "802/802 [==============================] - 0s 189us/step - loss: 0.0201 - acc: 0.9988 - val_loss: 0.1173 - val_acc: 0.9907\n",
      "\n",
      "Epoch 00011: val_acc did not improve from 0.99306\n",
      "Epoch 12/20\n",
      "802/802 [==============================] - 0s 188us/step - loss: 0.0201 - acc: 0.9988 - val_loss: 0.1170 - val_acc: 0.9907\n",
      "\n",
      "Epoch 00012: val_acc did not improve from 0.99306\n",
      "Epoch 13/20\n",
      "802/802 [==============================] - 0s 188us/step - loss: 0.0201 - acc: 0.9988 - val_loss: 0.1168 - val_acc: 0.9907\n",
      "\n",
      "Epoch 00013: val_acc did not improve from 0.99306\n",
      "Epoch 14/20\n",
      "802/802 [==============================] - 0s 190us/step - loss: 0.0202 - acc: 0.9988 - val_loss: 0.1167 - val_acc: 0.9907\n",
      "\n",
      "Epoch 00014: val_acc did not improve from 0.99306\n",
      "Epoch 15/20\n",
      "802/802 [==============================] - 0s 202us/step - loss: 0.0206 - acc: 0.9988 - val_loss: 0.1167 - val_acc: 0.9907\n",
      "\n",
      "Epoch 00015: val_acc did not improve from 0.99306\n",
      "Epoch 16/20\n",
      "802/802 [==============================] - 0s 192us/step - loss: 0.0203 - acc: 0.9988 - val_loss: 0.1166 - val_acc: 0.9907\n",
      "\n",
      "Epoch 00016: val_acc did not improve from 0.99306\n",
      "Epoch 17/20\n",
      "802/802 [==============================] - 0s 190us/step - loss: 0.0201 - acc: 0.9988 - val_loss: 0.1167 - val_acc: 0.9907\n",
      "\n",
      "Epoch 00017: val_acc did not improve from 0.99306\n",
      "Epoch 18/20\n",
      "802/802 [==============================] - 0s 191us/step - loss: 0.0204 - acc: 0.9988 - val_loss: 0.1167 - val_acc: 0.9907\n",
      "\n",
      "Epoch 00018: val_acc did not improve from 0.99306\n",
      "Epoch 19/20\n",
      "802/802 [==============================] - 0s 189us/step - loss: 0.0202 - acc: 0.9988 - val_loss: 0.1168 - val_acc: 0.9907\n",
      "\n",
      "Epoch 00019: val_acc did not improve from 0.99306\n",
      "Epoch 20/20\n",
      "802/802 [==============================] - 0s 191us/step - loss: 0.0205 - acc: 0.9988 - val_loss: 0.1168 - val_acc: 0.9907\n",
      "\n",
      "Epoch 00020: val_acc did not improve from 0.99306\n"
     ]
    }
   ],
   "source": [
    "filepath = 'model.h5'\n",
    "reduce_lr = ReduceLROnPlateau(monitor='val_acc', factor=0.1, patience=3, mode='auto')\n",
    "model.compile(optimizer='adam', loss='sparse_categorical_crossentropy', metrics=[\"accuracy\"])\n",
    "checkpoint = ModelCheckpoint(filepath, monitor='val_acc', verbose=1, save_best_only=True, mode='max')\n",
    "early_stoping = EarlyStopping(monitor='val_loss', min_delta=0, patience=0, verbose=0, mode='auto', baseline=None, restore_best_weights=False)\n",
    "history = model.fit(X_train, y_train, epochs=20, batch_size=64,validation_data=(X_val, y_val),\\\n",
    "                          callbacks=[checkpoint, TensorBoard(log_dir='model'), reduce_lr], shuffle = True)"
   ]
  },
  {
   "cell_type": "code",
   "execution_count": 0,
   "metadata": {
    "colab": {
     "base_uri": "https://localhost:8080/",
     "height": 51
    },
    "colab_type": "code",
    "id": "dLSzPw3K-B4a",
    "outputId": "ce93fe61-00fa-4e9a-f5ab-27e890be1e76"
   },
   "outputs": [
    {
     "name": "stdout",
     "output_type": "stream",
     "text": [
      "218/218 [==============================] - 0s 159us/step\n"
     ]
    },
    {
     "data": {
      "text/plain": [
       "[2.0385333643656467e-05, 1.0]"
      ]
     },
     "execution_count": 51,
     "metadata": {
      "tags": []
     },
     "output_type": "execute_result"
    }
   ],
   "source": [
    "import numpy as np\n",
    "y_pred = model.evaluate(X_test, y_test)\n",
    "y_pred"
   ]
  },
  {
   "cell_type": "code",
   "execution_count": 0,
   "metadata": {
    "colab": {
     "base_uri": "https://localhost:8080/",
     "height": 286
    },
    "colab_type": "code",
    "id": "50ZDxfdxynFf",
    "outputId": "9d62bd9d-36a5-4685-d4cb-e76afe198b0b"
   },
   "outputs": [
    {
     "data": {
      "text/plain": [
       "[<matplotlib.lines.Line2D at 0x7f6a15f428d0>]"
      ]
     },
     "execution_count": 32,
     "metadata": {
      "tags": []
     },
     "output_type": "execute_result"
    },
    {
     "data": {
      "image/png": "[encoded data removed]",
      "text/plain": [
       "<Figure size 432x288 with 1 Axes>"
      ]
     },
     "metadata": {
      "tags": []
     },
     "output_type": "display_data"
    }
   ],
   "source": [
    "plt.plot(np.arange(0, len(history.history['val_acc'])),history.history['val_acc'])\n"
   ]
  },
  {
   "cell_type": "markdown",
   "metadata": {
    "colab_type": "text",
    "id": "XpadPg2RkCas"
   },
   "source": [
    "### Save model"
   ]
  },
  {
   "cell_type": "code",
   "execution_count": 0,
   "metadata": {
    "colab": {
     "base_uri": "https://localhost:8080/",
     "height": 34
    },
    "colab_type": "code",
    "id": "mmo2_sDJBRzq",
    "outputId": "81991e78-9da5-419f-8108-7e2c6cb3e91d"
   },
   "outputs": [
    {
     "name": "stdout",
     "output_type": "stream",
     "text": [
      "Saved model to disk\n"
     ]
    }
   ],
   "source": [
    "model_json = model.to_json()\n",
    "with open(\"model.json\", \"w\") as json_file:\n",
    "    json_file.write(model_json)\n",
    "# serialize weights to HDF5\n",
    "model.save_weights(\"model.h5\")\n",
    "print(\"Saved model to disk\")"
   ]
  }
 ],
 "metadata": {
  "accelerator": "GPU",
  "colab": {
   "name": "Train_CNNs.ipynb",
   "provenance": [],
   "toc_visible": true,
   "version": "0.3.2"
  },
  "kernelspec": {
   "display_name": "Python 3",
   "language": "python",
   "name": "python3"
  },
  "language_info": {
   "codemirror_mode": {
    "name": "ipython",
    "version": 3
   },
   "file_extension": ".py",
   "mimetype": "text/x-python",
   "name": "python",
   "nbconvert_exporter": "python",
   "pygments_lexer": "ipython3",
   "version": "3.7.3"
  }
 },
 "nbformat": 4,
 "nbformat_minor": 1
}
